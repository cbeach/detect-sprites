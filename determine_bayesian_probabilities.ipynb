{
 "cells": [
  {
   "cell_type": "code",
   "execution_count": 2,
   "id": "d65be853-9b1d-4b06-ba3e-906d13b89f03",
   "metadata": {},
   "outputs": [
    {
     "name": "stdout",
     "output_type": "stream",
     "text": [
      "/home/mcsmash/dev/deep_thought/data_tools/preprocessing/detect-sprites/simple_patch/simple_patch.py:212 - playthrough_features.pickle\n",
      "/home/mcsmash/dev/deep_thought/data_tools/preprocessing/detect-sprites/simple_patch/simple_patch.py:215 - playthrough_masks.pickle\n",
      "/home/mcsmash/dev/deep_thought/data_tools/preprocessing/detect-sprites/simple_patch/simple_patch.py:218 - playthrough_hashes.pickle\n",
      "/home/mcsmash/dev/deep_thought/data_tools/preprocessing/detect-sprites/simple_patch/simple_patch.py:221 - playthrough_pix_to_patch_index.pickle\n",
      "/home/mcsmash/dev/deep_thought/data_tools/preprocessing/detect-sprites/simple_patch/simple_patch.py:224 - playthrough_patches.pickle\n",
      "/home/mcsmash/dev/deep_thought/data_tools/preprocessing/detect-sprites/simple_patch/simple_patch.py:227 - playthrough_kdtrees.pickle\n",
      "/home/mcsmash/dev/deep_thought/data_tools/preprocessing/detect-sprites/simple_patch/simple_patch.py:230 - playthrough_neighbor_index.pickle\n",
      "/home/mcsmash/dev/deep_thought/data_tools/preprocessing/detect-sprites/simple_patch/simple_patch.py:233 - playthrough_vector_space.pickle\n",
      "/home/mcsmash/dev/deep_thought/data_tools/preprocessing/detect-sprites/simple_patch/simple_patch.py:236 - aggregated_vector_space.pickle\n"
     ]
    }
   ],
   "source": [
    "from simple_patch.simple_patch import *\n",
    "env = load_env()"
   ]
  },
  {
   "cell_type": "code",
   "execution_count": 3,
   "id": "c85ef649-0b18-4293-a260-ac88651e0840",
   "metadata": {},
   "outputs": [],
   "source": [
    "playthrough_vector_space = env.playthrough_vector_space\n",
    "aggregated_vector_space = env.aggregated_vector_space\n",
    "grouped_vector_spaces = []\n",
    "\n",
    "for i in playthrough_vector_space:\n",
    "     grouped_vector_spaces.append(\n",
    "         {\n",
    "             j: {l.vector_space_hash: l for l in k}\n",
    "             for j, k in groupby(i, key=lambda a: patch_hash_to_int(a.src_hash))\n",
    "         })\n",
    "        "
   ]
  },
  {
   "cell_type": "code",
   "execution_count": null,
   "id": "a54a70a9-b257-4a4b-a431-49283868f24b",
   "metadata": {},
   "outputs": [],
   "source": [
    "expanded_vector_space = []\n",
    "for i, group in enumerate(grouped_vector_spaces):\n",
    "    expansion = {}\n",
    "    for key, value in group.items():\n",
    "        if len(value) == 1:\n",
    "            # iterate over the destinations\n",
    "            val = value[list(value.keys())[0]]\n",
    "            src_patch_area = env.playthrough_patches[i][val.src_index].area\n",
    "            if src_patch_area > 250:\n",
    "                continue\n",
    "            exp = PatchNeighborVectorSpace(\n",
    "                frame_number = val.frame_number,\n",
    "                src_index = val.src_index,\n",
    "                src_hash = val.src_hash,\n",
    "                unit_vects = val.unit_vects,\n",
    "                mags = val.mags,\n",
    "                dst_indexes = val.dst_indexes,\n",
    "                dst_hashes = val.dst_hashes,\n",
    "                vector_space_hash = val.vector_space_hash,\n",
    "                all_neighbors = False,\n",
    "            )\n",
    "            for next_src_hash in val.dst_hashes:\n",
    "                next_src_vs_group = env.group[next_src_hash]\n",
    "                if len(next_src_vs_group) == 1:\n",
    "                    pass\n",
    "        break\n",
    "    break"
   ]
  },
  {
   "cell_type": "code",
   "execution_count": null,
   "id": "81e04db8-5182-4a5c-a299-f4788601a2f6",
   "metadata": {},
   "outputs": [],
   "source": []
  }
 ],
 "metadata": {
  "kernelspec": {
   "display_name": "Python 3 (ipykernel)",
   "language": "python",
   "name": "python3"
  },
  "language_info": {
   "codemirror_mode": {
    "name": "ipython",
    "version": 3
   },
   "file_extension": ".py",
   "mimetype": "text/x-python",
   "name": "python",
   "nbconvert_exporter": "python",
   "pygments_lexer": "ipython3",
   "version": "3.8.10"
  }
 },
 "nbformat": 4,
 "nbformat_minor": 5
}
