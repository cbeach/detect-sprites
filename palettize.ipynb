{
 "cells": [
  {
   "cell_type": "code",
   "execution_count": null,
   "metadata": {},
   "outputs": [],
   "source": [
    "import cv2                                                                                          \n",
    "import numpy as np \n",
    "\n",
    "from sprites.jupyter_utils import *\n",
    "from sprites.patch import Patch, frame_edge_nodes, frame_edge_node, background_node, background_nodes\n",
    "from sprites.patch_graph import FrameGraph\n",
    "from sprites.sprite_util import show_image, get_image_list, get_playthrough, load_indexed_playthrough, sort_colors, patch_encoder, node_encoder, graph_encoder\n",
    "import sprites.db\n",
    "from sprites.db.data_store import DataStore\n",
    "from sprites.db.models import NodeM, PatchM\n",
    "\n",
    "from IPython.display import Image\n",
    "from IPython.display import display as ipydisplay\n",
    "\n",
    "ds = DataStore('sprites/db/sqlite.db', games_path='./sprites/games.json', echo=False)\n"
   ]
  }
 ],
 "metadata": {
  "kernelspec": {
   "display_name": "Python 3",
   "language": "python",
   "name": "python3"
  },
  "language_info": {
   "codemirror_mode": {
    "name": "ipython",
    "version": 3
   },
   "file_extension": ".py",
   "mimetype": "text/x-python",
   "name": "python",
   "nbconvert_exporter": "python",
   "pygments_lexer": "ipython3",
   "version": "3.6.9"
  }
 },
 "nbformat": 4,
 "nbformat_minor": 2
}
